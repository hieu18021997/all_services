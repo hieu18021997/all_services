{
 "cells": [
  {
   "cell_type": "code",
   "execution_count": null,
   "id": "b2f91112-86a1-4556-9f76-48c579045f43",
   "metadata": {
    "tags": []
   },
   "outputs": [],
   "source": [
    "a = 10\n",
    "b= 20\n"
   ]
  },
  {
   "cell_type": "code",
   "execution_count": null,
   "id": "d0f538da-63ed-4e1c-a615-6c416e6d8180",
   "metadata": {},
   "outputs": [],
   "source": []
  }
 ],
 "metadata": {
  "kernelspec": {
   "display_name": "Python 3 (ipykernel)",
   "language": "python",
   "name": "python3"
  },
  "language_info": {
   "codemirror_mode": {
    "name": "ipython",
    "version": 3
   },
   "file_extension": ".py",
   "mimetype": "text/x-python",
   "name": "python",
   "nbconvert_exporter": "python",
   "pygments_lexer": "ipython3",
   "version": "3.11.4"
  }
 },
 "nbformat": 4,
 "nbformat_minor": 5
}
