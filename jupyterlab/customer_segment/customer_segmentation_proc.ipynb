{
 "cells": [
  {
   "cell_type": "code",
   "execution_count": 7,
   "id": "449f2341-26fa-47ea-a384-5f05aaa783fb",
   "metadata": {
    "tags": []
   },
   "outputs": [],
   "source": [
    "import numpy as np\n",
    "import pandas as pd\n",
    "from google.cloud import bigquery\n",
    "import re\n",
    "import datetime\n",
    "from datetime import datetime, timedelta\n",
    "from tabulate import tabulate"
   ]
  },
  {
   "cell_type": "code",
   "execution_count": 2,
   "id": "7cd45ae3-76a0-444d-a2cc-f126767e1d71",
   "metadata": {
    "tags": []
   },
   "outputs": [],
   "source": [
    "rundate = datetime.strftime(datetime.now() + timedelta(hours=7) - timedelta(days=1), '%Y%m%d')\n",
    "rundate = '20221116'"
   ]
  },
  {
   "cell_type": "code",
   "execution_count": 3,
   "id": "c625b146-ddcb-43d8-ac55-4b9b4cb61f07",
   "metadata": {
    "tags": []
   },
   "outputs": [],
   "source": [
    "client = bigquery.Client()"
   ]
  },
  {
   "cell_type": "code",
   "execution_count": 4,
   "id": "64568493-bd94-4021-9db1-ec555b2775f8",
   "metadata": {
    "tags": []
   },
   "outputs": [],
   "source": [
    "# SAP ssale đã thay đổi lấy theo bảng fact mới tự phát triển\n",
    "sap_sales_trans = (\n",
    "    client.query('''\n",
    "        SELECT  \n",
    "        AOFY\n",
    "        ,case when MANDT = '912' then concat(MANDT,KUNNR)\n",
    "        else KUNNR end KUNNR\n",
    "        ,STATUS\n",
    "        ,CALENDAR_DATE\n",
    "        ,RESV_SIGN_DATE\n",
    "        ,CONTRACT_SIGN_DATE\n",
    "        ,CANCEL_DATE\n",
    "        ,TRANSFER_DATE\n",
    "        ,REV_TRANSFER_DATE\n",
    "        ,REVENUE_SALE_BF_DISCOUNT\t\n",
    "        from `vhm-dataops-prod.VH_DWH.FACT_VHM_SAP_TRANS`\n",
    "    ''')\n",
    "    .result()\n",
    "    .to_dataframe()\n",
    ")"
   ]
  },
  {
   "cell_type": "code",
   "execution_count": 5,
   "id": "a66e13d1-582a-42b4-95e7-a5380e9f7e49",
   "metadata": {
    "tags": []
   },
   "outputs": [
    {
     "data": {
      "text/plain": [
       "461672"
      ]
     },
     "execution_count": 5,
     "metadata": {},
     "output_type": "execute_result"
    }
   ],
   "source": [
    "len(sap_sales_trans)"
   ]
  },
  {
   "cell_type": "code",
   "execution_count": 6,
   "id": "d436756b-78b2-495b-b35f-b97b5224ac91",
   "metadata": {
    "tags": []
   },
   "outputs": [
    {
     "data": {
      "text/html": [
       "<div>\n",
       "<style scoped>\n",
       "    .dataframe tbody tr th:only-of-type {\n",
       "        vertical-align: middle;\n",
       "    }\n",
       "\n",
       "    .dataframe tbody tr th {\n",
       "        vertical-align: top;\n",
       "    }\n",
       "\n",
       "    .dataframe thead th {\n",
       "        text-align: right;\n",
       "    }\n",
       "</style>\n",
       "<table border=\"1\" class=\"dataframe\">\n",
       "  <thead>\n",
       "    <tr style=\"text-align: right;\">\n",
       "      <th></th>\n",
       "      <th>AOFY</th>\n",
       "      <th>KUNNR</th>\n",
       "      <th>STATUS</th>\n",
       "      <th>CALENDAR_DATE</th>\n",
       "      <th>RESV_SIGN_DATE</th>\n",
       "      <th>CONTRACT_SIGN_DATE</th>\n",
       "      <th>CANCEL_DATE</th>\n",
       "      <th>TRANSFER_DATE</th>\n",
       "      <th>REV_TRANSFER_DATE</th>\n",
       "      <th>REVENUE_SALE_BF_DISCOUNT</th>\n",
       "    </tr>\n",
       "  </thead>\n",
       "  <tbody>\n",
       "    <tr>\n",
       "      <th>0</th>\n",
       "      <td>Z/000-401-001.0001.1.811</td>\n",
       "      <td>0020025399</td>\n",
       "      <td>Huỷ HĐMB</td>\n",
       "      <td>20190221</td>\n",
       "      <td>20180809</td>\n",
       "      <td>20180818</td>\n",
       "      <td>20190221</td>\n",
       "      <td>00000000</td>\n",
       "      <td>00000000</td>\n",
       "      <td>1.035100e+09</td>\n",
       "    </tr>\n",
       "    <tr>\n",
       "      <th>1</th>\n",
       "      <td>Z/001-302-008.0001.1.120</td>\n",
       "      <td>0020036544</td>\n",
       "      <td>Huỷ HĐMB</td>\n",
       "      <td>20190301</td>\n",
       "      <td>20190124</td>\n",
       "      <td>20190214</td>\n",
       "      <td>20190301</td>\n",
       "      <td>00000000</td>\n",
       "      <td>00000000</td>\n",
       "      <td>1.272694e+10</td>\n",
       "    </tr>\n",
       "    <tr>\n",
       "      <th>2</th>\n",
       "      <td>Z/000-502-009.0003.1.119</td>\n",
       "      <td>0020028125</td>\n",
       "      <td>Huỷ HĐMB</td>\n",
       "      <td>20190506</td>\n",
       "      <td>20190124</td>\n",
       "      <td>20190124</td>\n",
       "      <td>20190506</td>\n",
       "      <td>00000000</td>\n",
       "      <td>00000000</td>\n",
       "      <td>2.823589e+09</td>\n",
       "    </tr>\n",
       "    <tr>\n",
       "      <th>3</th>\n",
       "      <td>Z/000-502-001.0001.1.906</td>\n",
       "      <td>0020032032</td>\n",
       "      <td>Huỷ HĐMB</td>\n",
       "      <td>20190509</td>\n",
       "      <td>20181103</td>\n",
       "      <td>20190110</td>\n",
       "      <td>20190509</td>\n",
       "      <td>00000000</td>\n",
       "      <td>00000000</td>\n",
       "      <td>2.072636e+09</td>\n",
       "    </tr>\n",
       "    <tr>\n",
       "      <th>4</th>\n",
       "      <td>Z/000-502-009.0003.1.120</td>\n",
       "      <td>0020028125</td>\n",
       "      <td>Huỷ HĐMB</td>\n",
       "      <td>20190509</td>\n",
       "      <td>20190124</td>\n",
       "      <td>20190124</td>\n",
       "      <td>20190509</td>\n",
       "      <td>00000000</td>\n",
       "      <td>00000000</td>\n",
       "      <td>2.781184e+09</td>\n",
       "    </tr>\n",
       "  </tbody>\n",
       "</table>\n",
       "</div>"
      ],
      "text/plain": [
       "                       AOFY       KUNNR    STATUS CALENDAR_DATE  \\\n",
       "0  Z/000-401-001.0001.1.811  0020025399  Huỷ HĐMB      20190221   \n",
       "1  Z/001-302-008.0001.1.120  0020036544  Huỷ HĐMB      20190301   \n",
       "2  Z/000-502-009.0003.1.119  0020028125  Huỷ HĐMB      20190506   \n",
       "3  Z/000-502-001.0001.1.906  0020032032  Huỷ HĐMB      20190509   \n",
       "4  Z/000-502-009.0003.1.120  0020028125  Huỷ HĐMB      20190509   \n",
       "\n",
       "  RESV_SIGN_DATE CONTRACT_SIGN_DATE CANCEL_DATE TRANSFER_DATE  \\\n",
       "0       20180809           20180818    20190221      00000000   \n",
       "1       20190124           20190214    20190301      00000000   \n",
       "2       20190124           20190124    20190506      00000000   \n",
       "3       20181103           20190110    20190509      00000000   \n",
       "4       20190124           20190124    20190509      00000000   \n",
       "\n",
       "  REV_TRANSFER_DATE  REVENUE_SALE_BF_DISCOUNT  \n",
       "0          00000000              1.035100e+09  \n",
       "1          00000000              1.272694e+10  \n",
       "2          00000000              2.823589e+09  \n",
       "3          00000000              2.072636e+09  \n",
       "4          00000000              2.781184e+09  "
      ]
     },
     "execution_count": 6,
     "metadata": {},
     "output_type": "execute_result"
    }
   ],
   "source": [
    "sap_sales_trans.head(5)"
   ]
  },
  {
   "cell_type": "code",
   "execution_count": 8,
   "id": "672bf398-617d-4afa-8c51-791d85f9f29d",
   "metadata": {
    "tags": []
   },
   "outputs": [
    {
     "name": "stderr",
     "output_type": "stream",
     "text": [
      "IOPub data rate exceeded.\n",
      "The Jupyter server will temporarily stop sending output\n",
      "to the client in order to avoid crashing it.\n",
      "To change this limit, set the config variable\n",
      "`--ServerApp.iopub_data_rate_limit`.\n",
      "\n",
      "Current values:\n",
      "ServerApp.iopub_data_rate_limit=1000000.0 (bytes/sec)\n",
      "ServerApp.rate_limit_window=3.0 (secs)\n",
      "\n"
     ]
    }
   ],
   "source": []
  },
  {
   "cell_type": "code",
   "execution_count": null,
   "id": "699f3737-da2a-4981-8fa7-8123c99f3006",
   "metadata": {},
   "outputs": [],
   "source": [
    "# SAP leasing\n",
    "sap_lease_trans = (\n",
    "    client.query('''\n",
    "    SELECT\n",
    "        PLANTNAME AS PROJECT,\n",
    "        UNITCODE AS HOUSE_UNIT,\n",
    "        ACCOUNTINGCODE AS sap_isu_id,\n",
    "        VALIDFR AS TIME_START,\n",
    "        VALIDTO AS TIME_END,\n",
    "        PREMISETYPE AS PROPERTY_TYPE,\n",
    "        UPDATE_DATE,\n",
    "        AMOUNT,\n",
    "        ADDRESS,\n",
    "        BIRTHDATE,\n",
    "        \"LEASE\" AS CUSTOMER_TYPE,\n",
    "    FROM `vhm-dataops-prod.VH_RAWDATA.SAPAPI_LEASING_CONTRACT` \n",
    "    WHERE STATUS IS NOT NULL\n",
    "        AND STATUS NOT IN (\"Cancel\", \"Booking\")\n",
    "    ''')\n",
    "    .result()\n",
    "    .to_dataframe()\n",
    ")"
   ]
  },
  {
   "cell_type": "code",
   "execution_count": null,
   "id": "df1ef22f-40d5-4b47-921b-0ab027d2d9e0",
   "metadata": {},
   "outputs": [],
   "source": [
    "# SAP Residence\n",
    "sap_res_trans = (\n",
    "    client.query('''\n",
    "    SELECT\n",
    "        PLANTNAME AS PROJECT,\n",
    "        UNITCODE AS HOUSE_UNIT,\n",
    "        ACCOUNTINGCODE AS sap_isu_id,\n",
    "        case when cast(REGEXP_REPLACE(VALIDFR,'-','') as int) < 19950101 then UPDATE_DATE\n",
    "        else VALIDFR end AS TIME_START,\n",
    "        UPDATE_DATE,\n",
    "        VALIDTO AS TIME_END,\n",
    "        SMASTER,\n",
    "        PREMISETYPE AS PROPERTY_TYPE,\n",
    "        ADDRESS,\n",
    "        REGEXP_REPLACE(BIRTHDATE,'-','') DOB,\n",
    "        case when GENDER = 'Mr.' then 'male'\n",
    "            when GENDER = 'Ms.' then 'female'\n",
    "            when GENDER = 'Comp' then 'comp'\n",
    "        end GENDER\n",
    "    FROM `vhm-dataops-prod.VH_RAWDATA.SAPAPI_RESIDENT`\n",
    "    where SMASTER is not null or SMASTER <> ''\n",
    "    ''')\n",
    "    .result()\n",
    "    .to_dataframe()\n",
    ")"
   ]
  }
 ],
 "metadata": {
  "kernelspec": {
   "display_name": "Python 3 (ipykernel)",
   "language": "python",
   "name": "python3"
  },
  "language_info": {
   "codemirror_mode": {
    "name": "ipython",
    "version": 3
   },
   "file_extension": ".py",
   "mimetype": "text/x-python",
   "name": "python",
   "nbconvert_exporter": "python",
   "pygments_lexer": "ipython3",
   "version": "3.11.4"
  }
 },
 "nbformat": 4,
 "nbformat_minor": 5
}
