{
 "cells": [
  {
   "cell_type": "code",
   "execution_count": 1,
   "id": "384a990c-4301-496f-a2fa-c8bbff6c7cd5",
   "metadata": {
    "tags": []
   },
   "outputs": [
    {
     "name": "stdout",
     "output_type": "stream",
     "text": [
      "hdbcli                    2.18.22                  pypi_0    pypi\n",
      "\n",
      "Note: you may need to restart the kernel to use updated packages.\n"
     ]
    }
   ],
   "source": [
    "#conda list | grep hdbcli"
   ]
  },
  {
   "cell_type": "code",
   "execution_count": 7,
   "id": "c255cca2-f44e-4085-ba23-e443b14e6523",
   "metadata": {
    "tags": []
   },
   "outputs": [
    {
     "name": "stdout",
     "output_type": "stream",
     "text": [
      "Collecting hdbcli\n",
      "  Obtaining dependency information for hdbcli from https://files.pythonhosted.org/packages/a8/2b/784524c9ead5c489a409f83b4ae2f305aa3a9b8e47f4a9ea8a3b9a0dcab1/hdbcli-2.18.22-cp34-abi3-manylinux1_x86_64.whl.metadata\n",
      "  Downloading hdbcli-2.18.22-cp34-abi3-manylinux1_x86_64.whl.metadata (6.1 kB)\n",
      "Downloading hdbcli-2.18.22-cp34-abi3-manylinux1_x86_64.whl (10.7 MB)\n",
      "\u001b[2K   \u001b[90m━━━━━━━━━━━━━━━━━━━━━━━━━━━━━━━━━━━━━━━━\u001b[0m \u001b[32m10.7/10.7 MB\u001b[0m \u001b[31m78.9 MB/s\u001b[0m eta \u001b[36m0:00:00\u001b[0m:00:01\u001b[0m0:01\u001b[0m\n",
      "\u001b[?25hInstalling collected packages: hdbcli\n",
      "Successfully installed hdbcli-2.18.22\n",
      "\u001b[33mWARNING: Running pip as the 'root' user can result in broken permissions and conflicting behaviour with the system package manager. It is recommended to use a virtual environment instead: https://pip.pypa.io/warnings/venv\u001b[0m\u001b[33m\n",
      "\u001b[0mNote: you may need to restart the kernel to use updated packages.\n"
     ]
    }
   ],
   "source": [
    "#pip install hdbcli"
   ]
  },
  {
   "cell_type": "code",
   "execution_count": 14,
   "id": "548a54e9-f5fe-4594-be82-d8c2b04cc2f4",
   "metadata": {
    "tags": []
   },
   "outputs": [],
   "source": [
    "from hdbcli import dbapi\n",
    "import pandas as pd\n",
    "import warnings\n",
    "warnings.filterwarnings('ignore')"
   ]
  },
  {
   "cell_type": "code",
   "execution_count": 15,
   "id": "26096d8b-96a6-44b5-9298-7a79306ffb3f",
   "metadata": {
    "tags": []
   },
   "outputs": [],
   "source": [
    "def conn_to_sap(host, port, user, pwd, db):\n",
    "    dbcon = dbapi.connect(address=host, port=port, user=user, password=pwd, database=db)\n",
    "    #If no errors, print connected\n",
    "    print('SAP connected')\n",
    "    return dbcon"
   ]
  },
  {
   "cell_type": "code",
   "execution_count": 5,
   "id": "4909fded-2e62-4201-b6f4-2d4c1d4784df",
   "metadata": {
    "tags": []
   },
   "outputs": [],
   "source": [
    "SAP_CREDENTIALS = [\n",
    "    {\n",
    "        \"HOST\": \"10.100.114.50\",\n",
    "        \"PORT\": \"30041\",\n",
    "        \"USER\": \"VH_DATAMART\",\n",
    "        \"PASS\": \"DBVHome#2023\",\n",
    "        \"DB\": \"PEC\",\n",
    "        \"MANDT\": \" AND MANDT in (911, 912)\"\n",
    "    },\n",
    "    {\n",
    "        \"HOST\": \"10.100.112.70\",\n",
    "        \"PORT\": \"32041\",\n",
    "        \"USER\": \"VH_DATAMART\",\n",
    "        \"PASS\": \"DBVHome#2023\",\n",
    "        \"DB\": \"PE7\",\n",
    "        \"MANDT\": \" AND MANDT in (932)\"\n",
    "    },\n",
    "    {\n",
    "        \"HOST\": \"10.100.112.70\",\n",
    "        \"PORT\": \"33041\",\n",
    "        \"USER\": \"VH_DATAMART\",\n",
    "        \"PASS\": \"DBVHome#2023\",\n",
    "        \"DB\": \"PE6\",\n",
    "        \"MANDT\": \" AND MANDT in (922)\"\n",
    "    }\n",
    "]"
   ]
  },
  {
   "cell_type": "code",
   "execution_count": 6,
   "id": "24474d76-e5be-4059-9304-18e381271365",
   "metadata": {
    "tags": []
   },
   "outputs": [],
   "source": [
    "CHECK_RECORDS_SAP = 'select count(1) record_count from SAPABAP1.{table_name}'\n",
    "table_YRRE_D_CN_FUND = 'YRRE_D_CN_FUND'"
   ]
  },
  {
   "cell_type": "code",
   "execution_count": 26,
   "id": "9917b673-309c-4ba8-9beb-01d671c04d4e",
   "metadata": {
    "tags": []
   },
   "outputs": [
    {
     "name": "stdout",
     "output_type": "stream",
     "text": [
      "MANDT : {'HOST': '10.100.114.50', 'PORT': '30041', 'USER': 'VH_DATAMART', 'PASS': 'DBVHome#2023', 'DB': 'PEC', 'MANDT': ' AND MANDT in (911, 912)'}\n",
      "SAP connected\n",
      "1\n",
      "   ROW_COUNT\n",
      "0       1979\n",
      "==================================================\n",
      "MANDT : {'HOST': '10.100.112.70', 'PORT': '32041', 'USER': 'VH_DATAMART', 'PASS': 'DBVHome#2023', 'DB': 'PE7', 'MANDT': ' AND MANDT in (932)'}\n",
      "SAP connected\n"
     ]
    },
    {
     "ename": "DatabaseError",
     "evalue": "Execution failed on sql 'select count(1) as row_count from SAPABAP1.CAWN': (258, \"insufficient privilege: Detailed info for this error can be found with guid '933257CF3E0EAA44B07796172DCD7E28'\")",
     "output_type": "error",
     "traceback": [
      "\u001b[0;31m---------------------------------------------------------------------------\u001b[0m",
      "\u001b[0;31mError\u001b[0m                                     Traceback (most recent call last)",
      "File \u001b[0;32m/home/hieuhv10/anaconda3/lib/python3.11/site-packages/pandas/io/sql.py:2202\u001b[0m, in \u001b[0;36mSQLiteDatabase.execute\u001b[0;34m(self, sql, params)\u001b[0m\n\u001b[1;32m   2201\u001b[0m \u001b[38;5;28;01mtry\u001b[39;00m:\n\u001b[0;32m-> 2202\u001b[0m     cur\u001b[38;5;241m.\u001b[39mexecute(sql, \u001b[38;5;241m*\u001b[39margs)\n\u001b[1;32m   2203\u001b[0m     \u001b[38;5;28;01mreturn\u001b[39;00m cur\n",
      "\u001b[0;31mError\u001b[0m: (258, \"insufficient privilege: Detailed info for this error can be found with guid '933257CF3E0EAA44B07796172DCD7E28'\")",
      "\nThe above exception was the direct cause of the following exception:\n",
      "\u001b[0;31mDatabaseError\u001b[0m                             Traceback (most recent call last)",
      "Cell \u001b[0;32mIn[26], line 6\u001b[0m\n\u001b[1;32m      4\u001b[0m \u001b[38;5;28mprint\u001b[39m(\u001b[38;5;124mf\u001b[39m\u001b[38;5;124m'\u001b[39m\u001b[38;5;124mMANDT : \u001b[39m\u001b[38;5;132;01m{\u001b[39;00mMANDT\u001b[38;5;132;01m}\u001b[39;00m\u001b[38;5;124m'\u001b[39m)\n\u001b[1;32m      5\u001b[0m dbcon \u001b[38;5;241m=\u001b[39m conn_to_sap(MANDT[\u001b[38;5;124m'\u001b[39m\u001b[38;5;124mHOST\u001b[39m\u001b[38;5;124m'\u001b[39m], MANDT[\u001b[38;5;124m'\u001b[39m\u001b[38;5;124mPORT\u001b[39m\u001b[38;5;124m'\u001b[39m], MANDT[\u001b[38;5;124m'\u001b[39m\u001b[38;5;124mUSER\u001b[39m\u001b[38;5;124m'\u001b[39m], MANDT[\u001b[38;5;124m'\u001b[39m\u001b[38;5;124mPASS\u001b[39m\u001b[38;5;124m'\u001b[39m], MANDT[\u001b[38;5;124m'\u001b[39m\u001b[38;5;124mDB\u001b[39m\u001b[38;5;124m'\u001b[39m])\n\u001b[0;32m----> 6\u001b[0m chunks \u001b[38;5;241m=\u001b[39m pd\u001b[38;5;241m.\u001b[39mread_sql_query(\u001b[38;5;124m'\u001b[39m\u001b[38;5;124mselect count(1) as row_count from SAPABAP1.CAWN\u001b[39m\u001b[38;5;124m'\u001b[39m, dbcon, chunksize\u001b[38;5;241m=\u001b[39mchunksize)\n\u001b[1;32m      7\u001b[0m \u001b[38;5;28;01mfor\u001b[39;00m chunk \u001b[38;5;129;01min\u001b[39;00m chunks:\n\u001b[1;32m      8\u001b[0m     \u001b[38;5;28mprint\u001b[39m(\u001b[38;5;28mlen\u001b[39m(chunk\u001b[38;5;241m.\u001b[39mindex))\n",
      "File \u001b[0;32m/home/hieuhv10/anaconda3/lib/python3.11/site-packages/pandas/io/sql.py:469\u001b[0m, in \u001b[0;36mread_sql_query\u001b[0;34m(sql, con, index_col, coerce_float, params, parse_dates, chunksize, dtype, dtype_backend)\u001b[0m\n\u001b[1;32m    466\u001b[0m     dtype_backend \u001b[38;5;241m=\u001b[39m \u001b[38;5;124m\"\u001b[39m\u001b[38;5;124mnumpy\u001b[39m\u001b[38;5;124m\"\u001b[39m  \u001b[38;5;66;03m# type: ignore[assignment]\u001b[39;00m\n\u001b[1;32m    468\u001b[0m \u001b[38;5;28;01mwith\u001b[39;00m pandasSQL_builder(con) \u001b[38;5;28;01mas\u001b[39;00m pandas_sql:\n\u001b[0;32m--> 469\u001b[0m     \u001b[38;5;28;01mreturn\u001b[39;00m pandas_sql\u001b[38;5;241m.\u001b[39mread_query(\n\u001b[1;32m    470\u001b[0m         sql,\n\u001b[1;32m    471\u001b[0m         index_col\u001b[38;5;241m=\u001b[39mindex_col,\n\u001b[1;32m    472\u001b[0m         params\u001b[38;5;241m=\u001b[39mparams,\n\u001b[1;32m    473\u001b[0m         coerce_float\u001b[38;5;241m=\u001b[39mcoerce_float,\n\u001b[1;32m    474\u001b[0m         parse_dates\u001b[38;5;241m=\u001b[39mparse_dates,\n\u001b[1;32m    475\u001b[0m         chunksize\u001b[38;5;241m=\u001b[39mchunksize,\n\u001b[1;32m    476\u001b[0m         dtype\u001b[38;5;241m=\u001b[39mdtype,\n\u001b[1;32m    477\u001b[0m         dtype_backend\u001b[38;5;241m=\u001b[39mdtype_backend,\n\u001b[1;32m    478\u001b[0m     )\n",
      "File \u001b[0;32m/home/hieuhv10/anaconda3/lib/python3.11/site-packages/pandas/io/sql.py:2266\u001b[0m, in \u001b[0;36mSQLiteDatabase.read_query\u001b[0;34m(self, sql, index_col, coerce_float, parse_dates, params, chunksize, dtype, dtype_backend)\u001b[0m\n\u001b[1;32m   2255\u001b[0m \u001b[38;5;28;01mdef\u001b[39;00m \u001b[38;5;21mread_query\u001b[39m(\n\u001b[1;32m   2256\u001b[0m     \u001b[38;5;28mself\u001b[39m,\n\u001b[1;32m   2257\u001b[0m     sql,\n\u001b[0;32m   (...)\u001b[0m\n\u001b[1;32m   2264\u001b[0m     dtype_backend: DtypeBackend \u001b[38;5;241m|\u001b[39m Literal[\u001b[38;5;124m\"\u001b[39m\u001b[38;5;124mnumpy\u001b[39m\u001b[38;5;124m\"\u001b[39m] \u001b[38;5;241m=\u001b[39m \u001b[38;5;124m\"\u001b[39m\u001b[38;5;124mnumpy\u001b[39m\u001b[38;5;124m\"\u001b[39m,\n\u001b[1;32m   2265\u001b[0m ) \u001b[38;5;241m-\u001b[39m\u001b[38;5;241m>\u001b[39m DataFrame \u001b[38;5;241m|\u001b[39m Iterator[DataFrame]:\n\u001b[0;32m-> 2266\u001b[0m     cursor \u001b[38;5;241m=\u001b[39m \u001b[38;5;28mself\u001b[39m\u001b[38;5;241m.\u001b[39mexecute(sql, params)\n\u001b[1;32m   2267\u001b[0m     columns \u001b[38;5;241m=\u001b[39m [col_desc[\u001b[38;5;241m0\u001b[39m] \u001b[38;5;28;01mfor\u001b[39;00m col_desc \u001b[38;5;129;01min\u001b[39;00m cursor\u001b[38;5;241m.\u001b[39mdescription]\n\u001b[1;32m   2269\u001b[0m     \u001b[38;5;28;01mif\u001b[39;00m chunksize \u001b[38;5;129;01mis\u001b[39;00m \u001b[38;5;129;01mnot\u001b[39;00m \u001b[38;5;28;01mNone\u001b[39;00m:\n",
      "File \u001b[0;32m/home/hieuhv10/anaconda3/lib/python3.11/site-packages/pandas/io/sql.py:2214\u001b[0m, in \u001b[0;36mSQLiteDatabase.execute\u001b[0;34m(self, sql, params)\u001b[0m\n\u001b[1;32m   2211\u001b[0m     \u001b[38;5;28;01mraise\u001b[39;00m ex \u001b[38;5;28;01mfrom\u001b[39;00m \u001b[38;5;21;01minner_exc\u001b[39;00m\n\u001b[1;32m   2213\u001b[0m ex \u001b[38;5;241m=\u001b[39m DatabaseError(\u001b[38;5;124mf\u001b[39m\u001b[38;5;124m\"\u001b[39m\u001b[38;5;124mExecution failed on sql \u001b[39m\u001b[38;5;124m'\u001b[39m\u001b[38;5;132;01m{\u001b[39;00msql\u001b[38;5;132;01m}\u001b[39;00m\u001b[38;5;124m'\u001b[39m\u001b[38;5;124m: \u001b[39m\u001b[38;5;132;01m{\u001b[39;00mexc\u001b[38;5;132;01m}\u001b[39;00m\u001b[38;5;124m\"\u001b[39m)\n\u001b[0;32m-> 2214\u001b[0m \u001b[38;5;28;01mraise\u001b[39;00m ex \u001b[38;5;28;01mfrom\u001b[39;00m \u001b[38;5;21;01mexc\u001b[39;00m\n",
      "\u001b[0;31mDatabaseError\u001b[0m: Execution failed on sql 'select count(1) as row_count from SAPABAP1.CAWN': (258, \"insufficient privilege: Detailed info for this error can be found with guid '933257CF3E0EAA44B07796172DCD7E28'\")"
     ]
    }
   ],
   "source": [
    "chunksize=30000\n",
    "\n",
    "for MANDT in SAP_CREDENTIALS:\n",
    "    print(f'MANDT : {MANDT}')\n",
    "    dbcon = conn_to_sap(MANDT['HOST'], MANDT['PORT'], MANDT['USER'], MANDT['PASS'], MANDT['DB'])\n",
    "    chunks = pd.read_sql_query('select count(1) as row_count from SAPABAP1.CAWN', dbcon, chunksize=chunksize)\n",
    "    for chunk in chunks:\n",
    "        print(len(chunk.index))\n",
    "        print(chunk.head())\n",
    "    print(\"=\"*50)"
   ]
  },
  {
   "cell_type": "code",
   "execution_count": null,
   "id": "457a8235-57a8-4089-a70d-53af2332a725",
   "metadata": {},
   "outputs": [],
   "source": []
  }
 ],
 "metadata": {
  "kernelspec": {
   "display_name": "Python 3 (ipykernel)",
   "language": "python",
   "name": "python3"
  },
  "language_info": {
   "codemirror_mode": {
    "name": "ipython",
    "version": 3
   },
   "file_extension": ".py",
   "mimetype": "text/x-python",
   "name": "python",
   "nbconvert_exporter": "python",
   "pygments_lexer": "ipython3",
   "version": "3.11.4"
  }
 },
 "nbformat": 4,
 "nbformat_minor": 5
}
